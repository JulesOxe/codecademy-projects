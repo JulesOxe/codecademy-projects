{
 "cells": [
  {
   "cell_type": "code",
   "execution_count": 27,
   "metadata": {},
   "outputs": [],
   "source": [
    "import pandas as pd\n",
    "import numpy as np\n",
    "from sklearn.model_selection import train_test_split\n",
    "from sklearn.compose import ColumnTransformer\n",
    "from sklearn.preprocessing import StandardScaler\n",
    "from sklearn.metrics import r2_score\n",
    "from tensorflow.keras.models import Sequential\n",
    "from tensorflow.keras import layers\n",
    "from tensorflow.keras.optimizers import Adam\n",
    "from tensorflow.keras.callbacks import EarlyStopping\n",
    "import matplotlib.pyplot as plt"
   ]
  },
  {
   "cell_type": "markdown",
   "metadata": {},
   "source": [
    "# Preprocess and explore the dataset"
   ]
  },
  {
   "cell_type": "code",
   "execution_count": 28,
   "metadata": {},
   "outputs": [
    {
     "name": "stdout",
     "output_type": "stream",
     "text": [
      "   Elevation  Aspect  Slope  Horizontal_Distance_To_Hydrology  \\\n",
      "0       2596      51      3                               258   \n",
      "1       2590      56      2                               212   \n",
      "2       2804     139      9                               268   \n",
      "3       2785     155     18                               242   \n",
      "4       2595      45      2                               153   \n",
      "\n",
      "   Vertical_Distance_To_Hydrology  Horizontal_Distance_To_Roadways  \\\n",
      "0                               0                              510   \n",
      "1                              -6                              390   \n",
      "2                              65                             3180   \n",
      "3                             118                             3090   \n",
      "4                              -1                              391   \n",
      "\n",
      "   Hillshade_9am  Hillshade_Noon  Hillshade_3pm  \\\n",
      "0            221             232            148   \n",
      "1            220             235            151   \n",
      "2            234             238            135   \n",
      "3            238             238            122   \n",
      "4            220             234            150   \n",
      "\n",
      "   Horizontal_Distance_To_Fire_Points  ...  Soil_Type32  Soil_Type33  \\\n",
      "0                                6279  ...            0            0   \n",
      "1                                6225  ...            0            0   \n",
      "2                                6121  ...            0            0   \n",
      "3                                6211  ...            0            0   \n",
      "4                                6172  ...            0            0   \n",
      "\n",
      "   Soil_Type34  Soil_Type35  Soil_Type36  Soil_Type37  Soil_Type38  \\\n",
      "0            0            0            0            0            0   \n",
      "1            0            0            0            0            0   \n",
      "2            0            0            0            0            0   \n",
      "3            0            0            0            0            0   \n",
      "4            0            0            0            0            0   \n",
      "\n",
      "   Soil_Type39  Soil_Type40  class  \n",
      "0            0            0      5  \n",
      "1            0            0      5  \n",
      "2            0            0      2  \n",
      "3            0            0      2  \n",
      "4            0            0      5  \n",
      "\n",
      "[5 rows x 55 columns]\n",
      "           Elevation         Aspect          Slope  \\\n",
      "count  581012.000000  581012.000000  581012.000000   \n",
      "mean     2959.365301     155.656807      14.103704   \n",
      "std       279.984734     111.913721       7.488242   \n",
      "min      1859.000000       0.000000       0.000000   \n",
      "25%      2809.000000      58.000000       9.000000   \n",
      "50%      2996.000000     127.000000      13.000000   \n",
      "75%      3163.000000     260.000000      18.000000   \n",
      "max      3858.000000     360.000000      66.000000   \n",
      "\n",
      "       Horizontal_Distance_To_Hydrology  Vertical_Distance_To_Hydrology  \\\n",
      "count                     581012.000000                   581012.000000   \n",
      "mean                         269.428217                       46.418855   \n",
      "std                          212.549356                       58.295232   \n",
      "min                            0.000000                     -173.000000   \n",
      "25%                          108.000000                        7.000000   \n",
      "50%                          218.000000                       30.000000   \n",
      "75%                          384.000000                       69.000000   \n",
      "max                         1397.000000                      601.000000   \n",
      "\n",
      "       Horizontal_Distance_To_Roadways  Hillshade_9am  Hillshade_Noon  \\\n",
      "count                    581012.000000  581012.000000   581012.000000   \n",
      "mean                       2350.146611     212.146049      223.318716   \n",
      "std                        1559.254870      26.769889       19.768697   \n",
      "min                           0.000000       0.000000        0.000000   \n",
      "25%                        1106.000000     198.000000      213.000000   \n",
      "50%                        1997.000000     218.000000      226.000000   \n",
      "75%                        3328.000000     231.000000      237.000000   \n",
      "max                        7117.000000     254.000000      254.000000   \n",
      "\n",
      "       Hillshade_3pm  Horizontal_Distance_To_Fire_Points  ...    Soil_Type32  \\\n",
      "count  581012.000000                       581012.000000  ...  581012.000000   \n",
      "mean      142.528263                         1980.291226  ...       0.090392   \n",
      "std        38.274529                         1324.195210  ...       0.286743   \n",
      "min         0.000000                            0.000000  ...       0.000000   \n",
      "25%       119.000000                         1024.000000  ...       0.000000   \n",
      "50%       143.000000                         1710.000000  ...       0.000000   \n",
      "75%       168.000000                         2550.000000  ...       0.000000   \n",
      "max       254.000000                         7173.000000  ...       1.000000   \n",
      "\n",
      "         Soil_Type33    Soil_Type34    Soil_Type35    Soil_Type36  \\\n",
      "count  581012.000000  581012.000000  581012.000000  581012.000000   \n",
      "mean        0.077716       0.002773       0.003255       0.000205   \n",
      "std         0.267725       0.052584       0.056957       0.014310   \n",
      "min         0.000000       0.000000       0.000000       0.000000   \n",
      "25%         0.000000       0.000000       0.000000       0.000000   \n",
      "50%         0.000000       0.000000       0.000000       0.000000   \n",
      "75%         0.000000       0.000000       0.000000       0.000000   \n",
      "max         1.000000       1.000000       1.000000       1.000000   \n",
      "\n",
      "         Soil_Type37    Soil_Type38    Soil_Type39    Soil_Type40  \\\n",
      "count  581012.000000  581012.000000  581012.000000  581012.000000   \n",
      "mean        0.000513       0.026803       0.023762       0.015060   \n",
      "std         0.022641       0.161508       0.152307       0.121791   \n",
      "min         0.000000       0.000000       0.000000       0.000000   \n",
      "25%         0.000000       0.000000       0.000000       0.000000   \n",
      "50%         0.000000       0.000000       0.000000       0.000000   \n",
      "75%         0.000000       0.000000       0.000000       0.000000   \n",
      "max         1.000000       1.000000       1.000000       1.000000   \n",
      "\n",
      "               class  \n",
      "count  581012.000000  \n",
      "mean        2.051471  \n",
      "std         1.396504  \n",
      "min         1.000000  \n",
      "25%         1.000000  \n",
      "50%         2.000000  \n",
      "75%         2.000000  \n",
      "max         7.000000  \n",
      "\n",
      "[8 rows x 55 columns]\n",
      "<class 'pandas.core.frame.DataFrame'>\n",
      "RangeIndex: 581012 entries, 0 to 581011\n",
      "Data columns (total 55 columns):\n",
      " #   Column                              Non-Null Count   Dtype\n",
      "---  ------                              --------------   -----\n",
      " 0   Elevation                           581012 non-null  int64\n",
      " 1   Aspect                              581012 non-null  int64\n",
      " 2   Slope                               581012 non-null  int64\n",
      " 3   Horizontal_Distance_To_Hydrology    581012 non-null  int64\n",
      " 4   Vertical_Distance_To_Hydrology      581012 non-null  int64\n",
      " 5   Horizontal_Distance_To_Roadways     581012 non-null  int64\n",
      " 6   Hillshade_9am                       581012 non-null  int64\n",
      " 7   Hillshade_Noon                      581012 non-null  int64\n",
      " 8   Hillshade_3pm                       581012 non-null  int64\n",
      " 9   Horizontal_Distance_To_Fire_Points  581012 non-null  int64\n",
      " 10  Wilderness_Area1                    581012 non-null  int64\n",
      " 11  Wilderness_Area2                    581012 non-null  int64\n",
      " 12  Wilderness_Area3                    581012 non-null  int64\n",
      " 13  Wilderness_Area4                    581012 non-null  int64\n",
      " 14  Soil_Type1                          581012 non-null  int64\n",
      " 15  Soil_Type2                          581012 non-null  int64\n",
      " 16  Soil_Type3                          581012 non-null  int64\n",
      " 17  Soil_Type4                          581012 non-null  int64\n",
      " 18  Soil_Type5                          581012 non-null  int64\n",
      " 19  Soil_Type6                          581012 non-null  int64\n",
      " 20  Soil_Type7                          581012 non-null  int64\n",
      " 21  Soil_Type8                          581012 non-null  int64\n",
      " 22  Soil_Type9                          581012 non-null  int64\n",
      " 23  Soil_Type10                         581012 non-null  int64\n",
      " 24  Soil_Type11                         581012 non-null  int64\n",
      " 25  Soil_Type12                         581012 non-null  int64\n",
      " 26  Soil_Type13                         581012 non-null  int64\n",
      " 27  Soil_Type14                         581012 non-null  int64\n",
      " 28  Soil_Type15                         581012 non-null  int64\n",
      " 29  Soil_Type16                         581012 non-null  int64\n",
      " 30  Soil_Type17                         581012 non-null  int64\n",
      " 31  Soil_Type18                         581012 non-null  int64\n",
      " 32  Soil_Type19                         581012 non-null  int64\n",
      " 33  Soil_Type20                         581012 non-null  int64\n",
      " 34  Soil_Type21                         581012 non-null  int64\n",
      " 35  Soil_Type22                         581012 non-null  int64\n",
      " 36  Soil_Type23                         581012 non-null  int64\n",
      " 37  Soil_Type24                         581012 non-null  int64\n",
      " 38  Soil_Type25                         581012 non-null  int64\n",
      " 39  Soil_Type26                         581012 non-null  int64\n",
      " 40  Soil_Type27                         581012 non-null  int64\n",
      " 41  Soil_Type28                         581012 non-null  int64\n",
      " 42  Soil_Type29                         581012 non-null  int64\n",
      " 43  Soil_Type30                         581012 non-null  int64\n",
      " 44  Soil_Type31                         581012 non-null  int64\n",
      " 45  Soil_Type32                         581012 non-null  int64\n",
      " 46  Soil_Type33                         581012 non-null  int64\n",
      " 47  Soil_Type34                         581012 non-null  int64\n",
      " 48  Soil_Type35                         581012 non-null  int64\n",
      " 49  Soil_Type36                         581012 non-null  int64\n",
      " 50  Soil_Type37                         581012 non-null  int64\n",
      " 51  Soil_Type38                         581012 non-null  int64\n",
      " 52  Soil_Type39                         581012 non-null  int64\n",
      " 53  Soil_Type40                         581012 non-null  int64\n",
      " 54  class                               581012 non-null  int64\n",
      "dtypes: int64(55)\n",
      "memory usage: 243.8 MB\n",
      "None\n"
     ]
    }
   ],
   "source": [
    "#import the dataset\n",
    "dataset = pd.read_csv('cover_data.csv')\n",
    "\n",
    "#analyze the dataset\n",
    "print(dataset.head())\n",
    "print(dataset.describe())\n",
    "print(dataset.info())"
   ]
  },
  {
   "cell_type": "markdown",
   "metadata": {},
   "source": [
    "# Build and train your model"
   ]
  },
  {
   "cell_type": "code",
   "execution_count": 29,
   "metadata": {},
   "outputs": [
    {
     "name": "stderr",
     "output_type": "stream",
     "text": [
      "/opt/miniconda3/envs/codecademy/lib/python3.12/site-packages/keras/src/layers/core/dense.py:87: UserWarning: Do not pass an `input_shape`/`input_dim` argument to a layer. When using Sequential models, prefer using an `Input(shape)` object as the first layer in the model instead.\n",
      "  super().__init__(activity_regularizer=activity_regularizer, **kwargs)\n"
     ]
    },
    {
     "data": {
      "text/html": [
       "<pre style=\"white-space:pre;overflow-x:auto;line-height:normal;font-family:Menlo,'DejaVu Sans Mono',consolas,'Courier New',monospace\"><span style=\"font-weight: bold\">Model: \"sequential_6\"</span>\n",
       "</pre>\n"
      ],
      "text/plain": [
       "\u001b[1mModel: \"sequential_6\"\u001b[0m\n"
      ]
     },
     "metadata": {},
     "output_type": "display_data"
    },
    {
     "data": {
      "text/html": [
       "<pre style=\"white-space:pre;overflow-x:auto;line-height:normal;font-family:Menlo,'DejaVu Sans Mono',consolas,'Courier New',monospace\">┏━━━━━━━━━━━━━━━━━━━━━━━━━━━━━━━━━┳━━━━━━━━━━━━━━━━━━━━━━━━┳━━━━━━━━━━━━━━━┓\n",
       "┃<span style=\"font-weight: bold\"> Layer (type)                    </span>┃<span style=\"font-weight: bold\"> Output Shape           </span>┃<span style=\"font-weight: bold\">       Param # </span>┃\n",
       "┡━━━━━━━━━━━━━━━━━━━━━━━━━━━━━━━━━╇━━━━━━━━━━━━━━━━━━━━━━━━╇━━━━━━━━━━━━━━━┩\n",
       "│ dense_18 (<span style=\"color: #0087ff; text-decoration-color: #0087ff\">Dense</span>)                │ (<span style=\"color: #00d7ff; text-decoration-color: #00d7ff\">None</span>, <span style=\"color: #00af00; text-decoration-color: #00af00\">128</span>)            │         <span style=\"color: #00af00; text-decoration-color: #00af00\">7,040</span> │\n",
       "├─────────────────────────────────┼────────────────────────┼───────────────┤\n",
       "│ dropout_8 (<span style=\"color: #0087ff; text-decoration-color: #0087ff\">Dropout</span>)             │ (<span style=\"color: #00d7ff; text-decoration-color: #00d7ff\">None</span>, <span style=\"color: #00af00; text-decoration-color: #00af00\">128</span>)            │             <span style=\"color: #00af00; text-decoration-color: #00af00\">0</span> │\n",
       "├─────────────────────────────────┼────────────────────────┼───────────────┤\n",
       "│ dense_19 (<span style=\"color: #0087ff; text-decoration-color: #0087ff\">Dense</span>)                │ (<span style=\"color: #00d7ff; text-decoration-color: #00d7ff\">None</span>, <span style=\"color: #00af00; text-decoration-color: #00af00\">64</span>)             │         <span style=\"color: #00af00; text-decoration-color: #00af00\">8,256</span> │\n",
       "├─────────────────────────────────┼────────────────────────┼───────────────┤\n",
       "│ dropout_9 (<span style=\"color: #0087ff; text-decoration-color: #0087ff\">Dropout</span>)             │ (<span style=\"color: #00d7ff; text-decoration-color: #00d7ff\">None</span>, <span style=\"color: #00af00; text-decoration-color: #00af00\">64</span>)             │             <span style=\"color: #00af00; text-decoration-color: #00af00\">0</span> │\n",
       "├─────────────────────────────────┼────────────────────────┼───────────────┤\n",
       "│ dense_20 (<span style=\"color: #0087ff; text-decoration-color: #0087ff\">Dense</span>)                │ (<span style=\"color: #00d7ff; text-decoration-color: #00d7ff\">None</span>, <span style=\"color: #00af00; text-decoration-color: #00af00\">8</span>)              │           <span style=\"color: #00af00; text-decoration-color: #00af00\">520</span> │\n",
       "└─────────────────────────────────┴────────────────────────┴───────────────┘\n",
       "</pre>\n"
      ],
      "text/plain": [
       "┏━━━━━━━━━━━━━━━━━━━━━━━━━━━━━━━━━┳━━━━━━━━━━━━━━━━━━━━━━━━┳━━━━━━━━━━━━━━━┓\n",
       "┃\u001b[1m \u001b[0m\u001b[1mLayer (type)                   \u001b[0m\u001b[1m \u001b[0m┃\u001b[1m \u001b[0m\u001b[1mOutput Shape          \u001b[0m\u001b[1m \u001b[0m┃\u001b[1m \u001b[0m\u001b[1m      Param #\u001b[0m\u001b[1m \u001b[0m┃\n",
       "┡━━━━━━━━━━━━━━━━━━━━━━━━━━━━━━━━━╇━━━━━━━━━━━━━━━━━━━━━━━━╇━━━━━━━━━━━━━━━┩\n",
       "│ dense_18 (\u001b[38;5;33mDense\u001b[0m)                │ (\u001b[38;5;45mNone\u001b[0m, \u001b[38;5;34m128\u001b[0m)            │         \u001b[38;5;34m7,040\u001b[0m │\n",
       "├─────────────────────────────────┼────────────────────────┼───────────────┤\n",
       "│ dropout_8 (\u001b[38;5;33mDropout\u001b[0m)             │ (\u001b[38;5;45mNone\u001b[0m, \u001b[38;5;34m128\u001b[0m)            │             \u001b[38;5;34m0\u001b[0m │\n",
       "├─────────────────────────────────┼────────────────────────┼───────────────┤\n",
       "│ dense_19 (\u001b[38;5;33mDense\u001b[0m)                │ (\u001b[38;5;45mNone\u001b[0m, \u001b[38;5;34m64\u001b[0m)             │         \u001b[38;5;34m8,256\u001b[0m │\n",
       "├─────────────────────────────────┼────────────────────────┼───────────────┤\n",
       "│ dropout_9 (\u001b[38;5;33mDropout\u001b[0m)             │ (\u001b[38;5;45mNone\u001b[0m, \u001b[38;5;34m64\u001b[0m)             │             \u001b[38;5;34m0\u001b[0m │\n",
       "├─────────────────────────────────┼────────────────────────┼───────────────┤\n",
       "│ dense_20 (\u001b[38;5;33mDense\u001b[0m)                │ (\u001b[38;5;45mNone\u001b[0m, \u001b[38;5;34m8\u001b[0m)              │           \u001b[38;5;34m520\u001b[0m │\n",
       "└─────────────────────────────────┴────────────────────────┴───────────────┘\n"
      ]
     },
     "metadata": {},
     "output_type": "display_data"
    },
    {
     "data": {
      "text/html": [
       "<pre style=\"white-space:pre;overflow-x:auto;line-height:normal;font-family:Menlo,'DejaVu Sans Mono',consolas,'Courier New',monospace\"><span style=\"font-weight: bold\"> Total params: </span><span style=\"color: #00af00; text-decoration-color: #00af00\">15,816</span> (61.78 KB)\n",
       "</pre>\n"
      ],
      "text/plain": [
       "\u001b[1m Total params: \u001b[0m\u001b[38;5;34m15,816\u001b[0m (61.78 KB)\n"
      ]
     },
     "metadata": {},
     "output_type": "display_data"
    },
    {
     "data": {
      "text/html": [
       "<pre style=\"white-space:pre;overflow-x:auto;line-height:normal;font-family:Menlo,'DejaVu Sans Mono',consolas,'Courier New',monospace\"><span style=\"font-weight: bold\"> Trainable params: </span><span style=\"color: #00af00; text-decoration-color: #00af00\">15,816</span> (61.78 KB)\n",
       "</pre>\n"
      ],
      "text/plain": [
       "\u001b[1m Trainable params: \u001b[0m\u001b[38;5;34m15,816\u001b[0m (61.78 KB)\n"
      ]
     },
     "metadata": {},
     "output_type": "display_data"
    },
    {
     "data": {
      "text/html": [
       "<pre style=\"white-space:pre;overflow-x:auto;line-height:normal;font-family:Menlo,'DejaVu Sans Mono',consolas,'Courier New',monospace\"><span style=\"font-weight: bold\"> Non-trainable params: </span><span style=\"color: #00af00; text-decoration-color: #00af00\">0</span> (0.00 B)\n",
       "</pre>\n"
      ],
      "text/plain": [
       "\u001b[1m Non-trainable params: \u001b[0m\u001b[38;5;34m0\u001b[0m (0.00 B)\n"
      ]
     },
     "metadata": {},
     "output_type": "display_data"
    },
    {
     "name": "stdout",
     "output_type": "stream",
     "text": [
      "None\n",
      "Epoch 1/100\n",
      "\u001b[1m7263/7263\u001b[0m \u001b[32m━━━━━━━━━━━━━━━━━━━━\u001b[0m\u001b[37m\u001b[0m \u001b[1m8s\u001b[0m 1ms/step - accuracy: 0.7115 - loss: 0.6905 - val_accuracy: 0.7835 - val_loss: 0.4976\n",
      "Epoch 2/100\n",
      "\u001b[1m7263/7263\u001b[0m \u001b[32m━━━━━━━━━━━━━━━━━━━━\u001b[0m\u001b[37m\u001b[0m \u001b[1m7s\u001b[0m 1ms/step - accuracy: 0.7744 - loss: 0.5238 - val_accuracy: 0.8097 - val_loss: 0.4484\n",
      "Epoch 3/100\n",
      "\u001b[1m7263/7263\u001b[0m \u001b[32m━━━━━━━━━━━━━━━━━━━━\u001b[0m\u001b[37m\u001b[0m \u001b[1m7s\u001b[0m 989us/step - accuracy: 0.7907 - loss: 0.4885 - val_accuracy: 0.8242 - val_loss: 0.4158\n",
      "Epoch 4/100\n",
      "\u001b[1m7263/7263\u001b[0m \u001b[32m━━━━━━━━━━━━━━━━━━━━\u001b[0m\u001b[37m\u001b[0m \u001b[1m7s\u001b[0m 966us/step - accuracy: 0.8007 - loss: 0.4683 - val_accuracy: 0.8306 - val_loss: 0.4018\n",
      "Epoch 5/100\n",
      "\u001b[1m7263/7263\u001b[0m \u001b[32m━━━━━━━━━━━━━━━━━━━━\u001b[0m\u001b[37m\u001b[0m \u001b[1m7s\u001b[0m 962us/step - accuracy: 0.8066 - loss: 0.4548 - val_accuracy: 0.8404 - val_loss: 0.3852\n",
      "Epoch 6/100\n",
      "\u001b[1m7263/7263\u001b[0m \u001b[32m━━━━━━━━━━━━━━━━━━━━\u001b[0m\u001b[37m\u001b[0m \u001b[1m7s\u001b[0m 959us/step - accuracy: 0.8107 - loss: 0.4455 - val_accuracy: 0.8422 - val_loss: 0.3787\n",
      "Epoch 7/100\n",
      "\u001b[1m7263/7263\u001b[0m \u001b[32m━━━━━━━━━━━━━━━━━━━━\u001b[0m\u001b[37m\u001b[0m \u001b[1m7s\u001b[0m 959us/step - accuracy: 0.8155 - loss: 0.4357 - val_accuracy: 0.8468 - val_loss: 0.3688\n",
      "Epoch 8/100\n",
      "\u001b[1m7263/7263\u001b[0m \u001b[32m━━━━━━━━━━━━━━━━━━━━\u001b[0m\u001b[37m\u001b[0m \u001b[1m7s\u001b[0m 983us/step - accuracy: 0.8176 - loss: 0.4295 - val_accuracy: 0.8499 - val_loss: 0.3617\n",
      "Epoch 9/100\n",
      "\u001b[1m7263/7263\u001b[0m \u001b[32m━━━━━━━━━━━━━━━━━━━━\u001b[0m\u001b[37m\u001b[0m \u001b[1m7s\u001b[0m 987us/step - accuracy: 0.8182 - loss: 0.4257 - val_accuracy: 0.8516 - val_loss: 0.3564\n",
      "Epoch 10/100\n",
      "\u001b[1m7263/7263\u001b[0m \u001b[32m━━━━━━━━━━━━━━━━━━━━\u001b[0m\u001b[37m\u001b[0m \u001b[1m7s\u001b[0m 964us/step - accuracy: 0.8197 - loss: 0.4222 - val_accuracy: 0.8543 - val_loss: 0.3504\n",
      "Epoch 11/100\n",
      "\u001b[1m7263/7263\u001b[0m \u001b[32m━━━━━━━━━━━━━━━━━━━━\u001b[0m\u001b[37m\u001b[0m \u001b[1m7s\u001b[0m 992us/step - accuracy: 0.8220 - loss: 0.4184 - val_accuracy: 0.8557 - val_loss: 0.3468\n",
      "Epoch 12/100\n",
      "\u001b[1m7263/7263\u001b[0m \u001b[32m━━━━━━━━━━━━━━━━━━━━\u001b[0m\u001b[37m\u001b[0m \u001b[1m8s\u001b[0m 1ms/step - accuracy: 0.8244 - loss: 0.4157 - val_accuracy: 0.8573 - val_loss: 0.3440\n",
      "Epoch 13/100\n",
      "\u001b[1m7263/7263\u001b[0m \u001b[32m━━━━━━━━━━━━━━━━━━━━\u001b[0m\u001b[37m\u001b[0m \u001b[1m7s\u001b[0m 972us/step - accuracy: 0.8253 - loss: 0.4124 - val_accuracy: 0.8597 - val_loss: 0.3455\n",
      "Epoch 14/100\n",
      "\u001b[1m7263/7263\u001b[0m \u001b[32m━━━━━━━━━━━━━━━━━━━━\u001b[0m\u001b[37m\u001b[0m \u001b[1m7s\u001b[0m 962us/step - accuracy: 0.8278 - loss: 0.4070 - val_accuracy: 0.8602 - val_loss: 0.3385\n",
      "Epoch 15/100\n",
      "\u001b[1m7263/7263\u001b[0m \u001b[32m━━━━━━━━━━━━━━━━━━━━\u001b[0m\u001b[37m\u001b[0m \u001b[1m7s\u001b[0m 967us/step - accuracy: 0.8280 - loss: 0.4066 - val_accuracy: 0.8616 - val_loss: 0.3333\n",
      "Epoch 16/100\n",
      "\u001b[1m7263/7263\u001b[0m \u001b[32m━━━━━━━━━━━━━━━━━━━━\u001b[0m\u001b[37m\u001b[0m \u001b[1m7s\u001b[0m 979us/step - accuracy: 0.8290 - loss: 0.4044 - val_accuracy: 0.8624 - val_loss: 0.3324\n",
      "Epoch 17/100\n",
      "\u001b[1m7263/7263\u001b[0m \u001b[32m━━━━━━━━━━━━━━━━━━━━\u001b[0m\u001b[37m\u001b[0m \u001b[1m7s\u001b[0m 1ms/step - accuracy: 0.8297 - loss: 0.4023 - val_accuracy: 0.8638 - val_loss: 0.3298\n",
      "Epoch 18/100\n",
      "\u001b[1m7263/7263\u001b[0m \u001b[32m━━━━━━━━━━━━━━━━━━━━\u001b[0m\u001b[37m\u001b[0m \u001b[1m7s\u001b[0m 973us/step - accuracy: 0.8303 - loss: 0.4001 - val_accuracy: 0.8644 - val_loss: 0.3294\n",
      "Epoch 19/100\n",
      "\u001b[1m7263/7263\u001b[0m \u001b[32m━━━━━━━━━━━━━━━━━━━━\u001b[0m\u001b[37m\u001b[0m \u001b[1m7s\u001b[0m 960us/step - accuracy: 0.8307 - loss: 0.4004 - val_accuracy: 0.8652 - val_loss: 0.3273\n",
      "Epoch 20/100\n",
      "\u001b[1m7263/7263\u001b[0m \u001b[32m━━━━━━━━━━━━━━━━━━━━\u001b[0m\u001b[37m\u001b[0m \u001b[1m7s\u001b[0m 969us/step - accuracy: 0.8309 - loss: 0.3998 - val_accuracy: 0.8672 - val_loss: 0.3235\n",
      "Epoch 21/100\n",
      "\u001b[1m7263/7263\u001b[0m \u001b[32m━━━━━━━━━━━━━━━━━━━━\u001b[0m\u001b[37m\u001b[0m \u001b[1m7s\u001b[0m 978us/step - accuracy: 0.8320 - loss: 0.3982 - val_accuracy: 0.8679 - val_loss: 0.3227\n",
      "Epoch 22/100\n",
      "\u001b[1m7263/7263\u001b[0m \u001b[32m━━━━━━━━━━━━━━━━━━━━\u001b[0m\u001b[37m\u001b[0m \u001b[1m7s\u001b[0m 968us/step - accuracy: 0.8326 - loss: 0.3958 - val_accuracy: 0.8702 - val_loss: 0.3207\n",
      "Epoch 23/100\n",
      "\u001b[1m7263/7263\u001b[0m \u001b[32m━━━━━━━━━━━━━━━━━━━━\u001b[0m\u001b[37m\u001b[0m \u001b[1m7s\u001b[0m 974us/step - accuracy: 0.8323 - loss: 0.3980 - val_accuracy: 0.8672 - val_loss: 0.3214\n",
      "Epoch 24/100\n",
      "\u001b[1m7263/7263\u001b[0m \u001b[32m━━━━━━━━━━━━━━━━━━━━\u001b[0m\u001b[37m\u001b[0m \u001b[1m7s\u001b[0m 996us/step - accuracy: 0.8332 - loss: 0.4024 - val_accuracy: 0.8687 - val_loss: 0.3195\n",
      "Epoch 25/100\n",
      "\u001b[1m7263/7263\u001b[0m \u001b[32m━━━━━━━━━━━━━━━━━━━━\u001b[0m\u001b[37m\u001b[0m \u001b[1m7s\u001b[0m 971us/step - accuracy: 0.8353 - loss: 0.3931 - val_accuracy: 0.8696 - val_loss: 0.3186\n",
      "Epoch 26/100\n",
      "\u001b[1m7263/7263\u001b[0m \u001b[32m━━━━━━━━━━━━━━━━━━━━\u001b[0m\u001b[37m\u001b[0m \u001b[1m7s\u001b[0m 965us/step - accuracy: 0.8357 - loss: 0.3910 - val_accuracy: 0.8696 - val_loss: 0.3161\n",
      "\u001b[1m3632/3632\u001b[0m \u001b[32m━━━━━━━━━━━━━━━━━━━━\u001b[0m\u001b[37m\u001b[0m \u001b[1m2s\u001b[0m 491us/step - accuracy: 0.8697 - loss: 0.3158\n",
      "0.31608763337135315 0.8696075081825256\n"
     ]
    }
   ],
   "source": [
    "#separate the features and labels\n",
    "labels = dataset.iloc[:,-1]\n",
    "features = dataset.iloc[:, 0:-1]\n",
    "\n",
    "#split the dataset into training and testing sets\n",
    "features_train, features_test, labels_train, labels_test = train_test_split(features, labels, test_size = 0.20, random_state=28, stratify=labels)\n",
    "\n",
    "  # normalize data\n",
    "scaler = StandardScaler()\n",
    "features_train_normalized = scaler.fit_transform(features_train)\n",
    "features_test_normalized = scaler.transform(features_test)\n",
    "\n",
    "#build the model\n",
    "my_model = Sequential()\n",
    "my_model.add(layers.Dense(128, input_dim=features_train_normalized.shape[1], activation = 'relu'))\n",
    "my_model.add(layers.Dropout(0.2))\n",
    "my_model.add(layers.Dense(64, activation = 'relu'))\n",
    "my_model.add(layers.Dropout(0.2))\n",
    "my_model.add(layers.Dense(8, activation = 'softmax'))\n",
    "print(my_model.summary())\n",
    "\n",
    "#compile the model\n",
    "opt = Adam(learning_rate = 0.001)\n",
    "\n",
    "my_model.compile(loss = 'sparse_categorical_crossentropy', metrics = ['accuracy'], optimizer = opt)\n",
    "\n",
    "#train the model\n",
    "earlystop_callback = EarlyStopping(monitor='val_accuracy', min_delta=0.001, patience=4)\n",
    "history = my_model.fit(features_train_normalized, labels_train, validation_data=(features_test_normalized, labels_test), epochs = 100, batch_size=64, callbacks=[earlystop_callback], validation_split=0.1, verbose=1)\n",
    "\n",
    "#plot the training history\n",
    "res_mse, res_mae = my_model.evaluate(features_test_normalized, labels_test)\n",
    "print(res_mse, res_mae)"
   ]
  },
  {
   "cell_type": "markdown",
   "metadata": {},
   "source": [
    "# Plot model performance"
   ]
  },
  {
   "cell_type": "code",
   "execution_count": 30,
   "metadata": {},
   "outputs": [
    {
     "data": {
      "image/png": "[encoded data removed]",
      "text/plain": [
       "<Figure size 1200x500 with 2 Axes>"
      ]
     },
     "metadata": {},
     "output_type": "display_data"
    },
    {
     "name": "stdout",
     "output_type": "stream",
     "text": [
      "\u001b[1m3632/3632\u001b[0m \u001b[32m━━━━━━━━━━━━━━━━━━━━\u001b[0m\u001b[37m\u001b[0m \u001b[1m1s\u001b[0m 319us/step\n",
      "R-squared Value: -0.9525\n"
     ]
    }
   ],
   "source": [
    "# extract the training history\n",
    "loss = history.history['loss']\n",
    "val_loss = history.history['val_loss']\n",
    "accuracy = history.history['accuracy']\n",
    "val_accuracy = history.history['val_accuracy']\n",
    "epochs = range(1, len(loss) + 1)\n",
    "\n",
    "# create the plots\n",
    "fig, ax = plt.subplots(1, 2, figsize=(12, 5))\n",
    "\n",
    "# plot the loss\n",
    "ax[0].plot(epochs, loss, 'bo-', label='Training Loss')\n",
    "ax[0].plot(epochs, val_loss, 'ro-', label='Validation Loss')\n",
    "ax[0].set_title('Model Loss per Epoch')\n",
    "ax[0].set_xlabel('Epochs')\n",
    "ax[0].set_ylabel('Loss')\n",
    "ax[0].legend()\n",
    "\n",
    "# plot the accuracy\n",
    "ax[1].plot(epochs, accuracy, 'bo-', label='Training Accuracy')\n",
    "ax[1].plot(epochs, val_accuracy, 'ro-', label='Validation Accuracy')\n",
    "ax[1].set_title('Model Accuracy per Epoch')\n",
    "ax[1].set_xlabel('Epochs')\n",
    "ax[1].set_ylabel('Accuracy')\n",
    "ax[1].legend()\n",
    "\n",
    "# show the plots\n",
    "plt.tight_layout()\n",
    "plt.show()\n",
    "\n",
    "# evaluate the model\n",
    "predictions = my_model.predict(features_test_scaled)\n",
    "\n",
    "# calculate the R-squared value\n",
    "r2 = r2_score(labels_test, predictions.argmax(axis=1))\n",
    "\n",
    "print(f'R-squared Value: {r2:.4f}')"
   ]
  }
 ],
 "metadata": {
  "kernelspec": {
   "display_name": "codecademy",
   "language": "python",
   "name": "python3"
  },
  "language_info": {
   "codemirror_mode": {
    "name": "ipython",
    "version": 3
   },
   "file_extension": ".py",
   "mimetype": "text/x-python",
   "name": "python",
   "nbconvert_exporter": "python",
   "pygments_lexer": "ipython3",
   "version": "3.12.9"
  }
 },
 "nbformat": 4,
 "nbformat_minor": 4
}
